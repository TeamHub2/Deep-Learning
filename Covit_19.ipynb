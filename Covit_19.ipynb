{
  "nbformat": 4,
  "nbformat_minor": 0,
  "metadata": {
    "colab": {
      "name": "Covit 19.ipynb",
      "provenance": [],
      "mount_file_id": "1X2kDaZ7QVRw7lupD2mmsWg1rlRj7HXJ0",
      "authorship_tag": "ABX9TyMpZaHpjtEQu1e+oVF61pvC",
      "include_colab_link": true
    },
    "kernelspec": {
      "name": "python3",
      "display_name": "Python 3"
    },
    "language_info": {
      "name": "python"
    },
    "accelerator": "GPU"
  },
  "cells": [
    {
      "cell_type": "markdown",
      "metadata": {
        "id": "view-in-github",
        "colab_type": "text"
      },
      "source": [
        "<a href=\"https://colab.research.google.com/github/TeamHub2/Deep-Learning/blob/main/Covit_19.ipynb\" target=\"_parent\"><img src=\"https://colab.research.google.com/assets/colab-badge.svg\" alt=\"Open In Colab\"/></a>"
      ]
    },
    {
      "cell_type": "code",
      "execution_count": null,
      "metadata": {
        "id": "pYXCmFNVgf0k"
      },
      "outputs": [],
      "source": [
        "import tensorflow as tf\n",
        "from tensorflow.keras.layers import Input, Lambda, Dense, Flatten\n",
        "from tensorflow.keras.models import Model\n",
        "from tensorflow.keras.preprocessing import image\n",
        "from tensorflow.keras.preprocessing.image import ImageDataGenerator,load_img\n",
        "from tensorflow.keras.models import Sequential\n",
        "import numpy as np\n",
        "from glob import glob\n",
        "import datetime as dt\n",
        "import matplotlib.pyplot as plt"
      ]
    },
    {
      "cell_type": "code",
      "source": [
        "IMAGE_SHAPE = (224, 224,3)\n",
        "\n",
        "train_path = '/content/drive/MyDrive/Covit19/Covid19-dataset/train'\n",
        "test_path = '/content/drive/MyDrive/Covit19/Covid19-dataset/test'"
      ],
      "metadata": {
        "id": "OWnZ8Ji_htlB"
      },
      "execution_count": null,
      "outputs": []
    },
    {
      "cell_type": "code",
      "source": [
        "from tensorflow.keras.preprocessing.image import ImageDataGenerator\n",
        "\n",
        "train_datagen = ImageDataGenerator(rescale = 1./255,\n",
        "                                   zoom_range = 0.2,\n",
        "                                   rotation_range=10,\n",
        "                                   brightness_range=[0.5, 1.5],\n",
        "                                   vertical_flip=False,\n",
        "                                   horizontal_flip = False)\n",
        "\n",
        "test_datagen = ImageDataGenerator(rescale = 1./255)"
      ],
      "metadata": {
        "id": "WxdDsc-9htoZ"
      },
      "execution_count": null,
      "outputs": []
    },
    {
      "cell_type": "code",
      "source": [
        "training_set = train_datagen.flow_from_directory(train_path,\n",
        "                                                 target_size = (224, 224),\n",
        "                                                 batch_size = 32,\n",
        "                                                 class_mode = 'categorical')"
      ],
      "metadata": {
        "colab": {
          "base_uri": "https://localhost:8080/"
        },
        "id": "nn3bIOi6htsc",
        "outputId": "2a253630-38e6-4d39-ec90-e6e95bf502ad"
      },
      "execution_count": null,
      "outputs": [
        {
          "output_type": "stream",
          "name": "stdout",
          "text": [
            "Found 251 images belonging to 3 classes.\n"
          ]
        }
      ]
    },
    {
      "cell_type": "code",
      "source": [
        "test_set = test_datagen.flow_from_directory(test_path,\n",
        "                                            target_size = (224, 224),\n",
        "                                            batch_size = 32,\n",
        "                                            class_mode = 'categorical',\n",
        "                                            shuffle =False)"
      ],
      "metadata": {
        "colab": {
          "base_uri": "https://localhost:8080/"
        },
        "id": "93to7ok9htvO",
        "outputId": "3128bd9f-23df-4bc0-c941-4b38329806ce"
      },
      "execution_count": null,
      "outputs": [
        {
          "output_type": "stream",
          "name": "stdout",
          "text": [
            "Found 66 images belonging to 3 classes.\n"
          ]
        }
      ]
    },
    {
      "cell_type": "code",
      "source": [
        "\n",
        "dense = tf.keras.applications.mobilenet_v2.MobileNetV2(input_shape=(224,224,3), weights='imagenet', include_top=False) #MobileNetV2 model algorithom download\n",
        "\n",
        "for layer in dense.layers:\n",
        "    layer.trainable = False\n",
        "\n",
        "x = Flatten()(dense.output)\n",
        "prediction = Dense(3, activation='softmax')(x) #customize the model with our dataset\n",
        "model = Model(inputs=dense.input, outputs=prediction)\n",
        "\n",
        "model.compile( #compiling our customize model\n",
        "  loss='categorical_crossentropy',\n",
        "  optimizer='adam',\n",
        "  metrics=['accuracy']\n",
        ")\n",
        "\n",
        "callbacks = [tf.keras.callbacks.TensorBoard(log_dir='log/{}'.format(dt.datetime.now().strftime(\"%Y-%m-%d-%H-%M-%S\")))]"
      ],
      "metadata": {
        "id": "JrXVxuH6htzB"
      },
      "execution_count": null,
      "outputs": []
    },
    {
      "cell_type": "code",
      "source": [
        "h=model.fit(\n",
        "  training_set,\n",
        "  validation_data=test_set,\n",
        "  batch_size=32, #data train korbe 8 ta kore ekbare\n",
        "  epochs=10, #hole data ke total 20 bar train korano hoi\n",
        "  \n",
        ")"
      ],
      "metadata": {
        "colab": {
          "base_uri": "https://localhost:8080/"
        },
        "id": "XIfi-z7AiGXr",
        "outputId": "1af69563-bba2-44dc-a077-2995aa19c483"
      },
      "execution_count": null,
      "outputs": [
        {
          "output_type": "stream",
          "name": "stdout",
          "text": [
            "Epoch 1/10\n",
            "8/8 [==============================] - 20s 2s/step - loss: 3.0221 - accuracy: 0.6414 - val_loss: 0.2156 - val_accuracy: 0.9242\n",
            "Epoch 2/10\n",
            "8/8 [==============================] - 16s 2s/step - loss: 1.2045 - accuracy: 0.8845 - val_loss: 0.9416 - val_accuracy: 0.8182\n",
            "Epoch 3/10\n",
            "8/8 [==============================] - 16s 2s/step - loss: 0.5803 - accuracy: 0.9283 - val_loss: 0.3890 - val_accuracy: 0.9242\n",
            "Epoch 4/10\n",
            "8/8 [==============================] - 16s 2s/step - loss: 0.3352 - accuracy: 0.9482 - val_loss: 0.4258 - val_accuracy: 0.9091\n",
            "Epoch 5/10\n",
            "8/8 [==============================] - 16s 2s/step - loss: 0.3758 - accuracy: 0.9442 - val_loss: 0.4635 - val_accuracy: 0.9242\n",
            "Epoch 6/10\n",
            "8/8 [==============================] - 16s 2s/step - loss: 0.2281 - accuracy: 0.9482 - val_loss: 0.5314 - val_accuracy: 0.9394\n",
            "Epoch 7/10\n",
            "8/8 [==============================] - 16s 2s/step - loss: 0.3416 - accuracy: 0.9442 - val_loss: 0.2313 - val_accuracy: 0.9545\n",
            "Epoch 8/10\n",
            "8/8 [==============================] - 16s 2s/step - loss: 0.1248 - accuracy: 0.9681 - val_loss: 1.0149 - val_accuracy: 0.8788\n",
            "Epoch 9/10\n",
            "8/8 [==============================] - 16s 2s/step - loss: 0.0426 - accuracy: 0.9880 - val_loss: 0.5544 - val_accuracy: 0.8788\n",
            "Epoch 10/10\n",
            "8/8 [==============================] - 16s 2s/step - loss: 0.1147 - accuracy: 0.9681 - val_loss: 0.5389 - val_accuracy: 0.9242\n"
          ]
        }
      ]
    },
    {
      "cell_type": "code",
      "source": [
        "loss,test_accuracy =model.evaluate(test_set)\n",
        "print('Accuracy on test:', test_accuracy)"
      ],
      "metadata": {
        "colab": {
          "base_uri": "https://localhost:8080/"
        },
        "id": "I1RnmXCoiGkQ",
        "outputId": "d4bd2de9-517f-4c21-b613-ee64c0060d4b"
      },
      "execution_count": null,
      "outputs": [
        {
          "output_type": "stream",
          "name": "stdout",
          "text": [
            "3/3 [==============================] - 2s 499ms/step - loss: 0.5389 - accuracy: 0.9242\n",
            "Accuracy on test: 0.9242424368858337\n"
          ]
        }
      ]
    },
    {
      "cell_type": "code",
      "source": [
        "from sklearn.metrics import classification_report, confusion_matrix\n",
        "import seaborn as sns\n",
        "# T0 print the Classification Report\n",
        "y_pred =model.predict(test_set)\n",
        "y_pred = np.argmax(y_pred, axis=1)\n",
        "print(classification_report(test_set.classes, y_pred))"
      ],
      "metadata": {
        "colab": {
          "base_uri": "https://localhost:8080/"
        },
        "id": "eCZ10CVCiGoc",
        "outputId": "b504cb95-a97b-4ab0-86de-7a6e7192c127"
      },
      "execution_count": null,
      "outputs": [
        {
          "output_type": "stream",
          "name": "stdout",
          "text": [
            "              precision    recall  f1-score   support\n",
            "\n",
            "           0       1.00      1.00      1.00        26\n",
            "           1       0.89      0.85      0.87        20\n",
            "           2       0.86      0.90      0.88        20\n",
            "\n",
            "    accuracy                           0.92        66\n",
            "   macro avg       0.92      0.92      0.92        66\n",
            "weighted avg       0.92      0.92      0.92        66\n",
            "\n"
          ]
        }
      ]
    },
    {
      "cell_type": "code",
      "source": [
        "# To print the Confusion Matrix\n",
        "cf_matrix = confusion_matrix(test_set.classes,y_pred)\n",
        "Labels = ['Covid','Normal','Viral Pneumonia']\n",
        "plt.figure(figsize=(8, 8))\n",
        "heatmap = sns.heatmap(cf_matrix, xticklabels=Labels, yticklabels=Labels, annot=True, fmt='d', color='blue')\n",
        "plt.xlabel('Predicted Class')\n",
        "plt.ylabel('True Class')\n",
        "plt.title('Confusion Matrix')\n",
        "plt.show()"
      ],
      "metadata": {
        "colab": {
          "base_uri": "https://localhost:8080/",
          "height": 517
        },
        "id": "T0ZH2jN3iQ3L",
        "outputId": "795c01ef-7eb3-47ad-a20a-73e35543adb9"
      },
      "execution_count": null,
      "outputs": [
        {
          "output_type": "display_data",
          "data": {
            "image/png": "[encoded data removed]",
            "text/plain": [
              "<Figure size 576x576 with 2 Axes>"
            ]
          },
          "metadata": {}
        }
      ]
    },
    {
      "cell_type": "code",
      "source": [
        "# plot the training loss and accuracy\n",
        "N = epochs=10\n",
        "plt.style.use(\"ggplot\")\n",
        "plt.figure()\n",
        "plt.plot(np.arange(0, N), h.history[\"loss\"], label=\"train_loss\")\n",
        "#plt.plot(np.arange(0, N), h.history[\"val_loss\"], label=\"val_loss\")\n",
        "plt.plot(np.arange(0, N), h.history[\"accuracy\"], label=\"train_acc\")\n",
        "#plt.plot(np.arange(0, N), h.history[\"val_accuracy\"], label=\"val_acc\")\n",
        "plt.title(\"Training Loss and Accuracy\")\n",
        "plt.xlabel(\"Epoch #\")\n",
        "plt.ylabel(\"Loss/Accuracy\")\n",
        "plt.legend(loc=\"lower left\")\n",
        "plt.savefig(\"plot.png\")"
      ],
      "metadata": {
        "colab": {
          "base_uri": "https://localhost:8080/",
          "height": 299
        },
        "id": "JmX7TlYZiQ6o",
        "outputId": "11a58da8-8f4d-458d-9572-626c285bb386"
      },
      "execution_count": null,
      "outputs": [
        {
          "output_type": "display_data",
          "data": {
            "image/png": "[encoded data removed]",
            "text/plain": [
              "<Figure size 432x288 with 1 Axes>"
            ]
          },
          "metadata": {}
        }
      ]
    }
  ]
}