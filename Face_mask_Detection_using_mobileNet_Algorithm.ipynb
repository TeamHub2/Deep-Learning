{
  "nbformat": 4,
  "nbformat_minor": 0,
  "metadata": {
    "colab": {
      "name": "Face_mask Detection using mobileNet Algorithm.ipynb",
      "provenance": [],
      "collapsed_sections": [],
      "mount_file_id": "1UPPcV5jRHYOWfBgCifC5REFahh6enrzg",
      "authorship_tag": "ABX9TyODx/1sXvJHrTYSbxWpCfaS",
      "include_colab_link": true
    },
    "kernelspec": {
      "name": "python3",
      "display_name": "Python 3"
    },
    "language_info": {
      "name": "python"
    },
    "accelerator": "GPU"
  },
  "cells": [
    {
      "cell_type": "markdown",
      "metadata": {
        "id": "view-in-github",
        "colab_type": "text"
      },
      "source": [
        "<a href=\"https://colab.research.google.com/github/TeamHub2/Deep-Learning/blob/main/Face_mask_Detection_using_mobileNet_Algorithm.ipynb\" target=\"_parent\"><img src=\"https://colab.research.google.com/assets/colab-badge.svg\" alt=\"Open In Colab\"/></a>"
      ]
    },
    {
      "cell_type": "code",
      "execution_count": null,
      "metadata": {
        "id": "CDovOAzpbGAl"
      },
      "outputs": [],
      "source": [
        "# import the necessary packages\n",
        "from tensorflow.keras.preprocessing.image import ImageDataGenerator\n",
        "from tensorflow.keras.applications import MobileNetV2\n",
        "from tensorflow.keras.layers import AveragePooling2D\n",
        "from tensorflow.keras.layers import Dropout\n",
        "from tensorflow.keras.layers import Flatten\n",
        "from tensorflow.keras.layers import Dense\n",
        "from tensorflow.keras.layers import Input\n",
        "from tensorflow.keras.models import Model\n",
        "from tensorflow.keras.optimizers import Adam\n",
        "from tensorflow.keras.applications.mobilenet_v2 import preprocess_input\n",
        "from tensorflow.keras.preprocessing.image import img_to_array\n",
        "from tensorflow.keras.preprocessing.image import load_img\n",
        "from tensorflow.keras.utils import to_categorical\n",
        "from sklearn.preprocessing import LabelBinarizer\n",
        "from sklearn.model_selection import train_test_split\n",
        "from sklearn.metrics import classification_report\n",
        "from imutils import paths\n",
        "import matplotlib.pyplot as plt\n",
        "import numpy as np\n",
        "import os"
      ]
    },
    {
      "cell_type": "code",
      "source": [
        "INIT_LR = 1e-4\n",
        "EPOCHS = 20\n",
        "BATCH_SIZE = 32"
      ],
      "metadata": {
        "id": "LEN5fDoUHU-M"
      },
      "execution_count": null,
      "outputs": []
    },
    {
      "cell_type": "code",
      "source": [
        "DIRECTORY = r\"/content/drive/MyDrive/Face_mask_Detection/dataset\"\n",
        "CATEGORIES = [\"with_mask\", \"without_mask\"]"
      ],
      "metadata": {
        "id": "vmvWm-LCHVeR"
      },
      "execution_count": null,
      "outputs": []
    },
    {
      "cell_type": "code",
      "source": [
        "# grab the list of images in our dataset directory, then initialize\n",
        "print(\"[INFO] loading images...\")\n",
        "data = []\n",
        "labels = []\n",
        "\n",
        "for category in CATEGORIES:\n",
        "    path = os.path.join(DIRECTORY, category)\n",
        "    for img in os.listdir(path):\n",
        "    \timg_path = os.path.join(path, img)\n",
        "    \timage = load_img(img_path, target_size=(224, 224))\n",
        "    \timage = img_to_array(image)\n",
        "    \timage = preprocess_input(image)\n",
        "\n",
        "    \tdata.append(image)\n",
        "    \tlabels.append(category)"
      ],
      "metadata": {
        "colab": {
          "base_uri": "https://localhost:8080/"
        },
        "id": "CjTYd0zcHVgu",
        "outputId": "cf61a13b-06ff-486b-9479-96188dacfff7"
      },
      "execution_count": null,
      "outputs": [
        {
          "output_type": "stream",
          "name": "stdout",
          "text": [
            "[INFO] loading images...\n"
          ]
        },
        {
          "output_type": "stream",
          "name": "stderr",
          "text": [
            "/usr/local/lib/python3.7/dist-packages/PIL/Image.py:960: UserWarning: Palette images with Transparency expressed in bytes should be converted to RGBA images\n",
            "  \"Palette images with Transparency expressed in bytes should be \"\n"
          ]
        }
      ]
    },
    {
      "cell_type": "code",
      "source": [
        "# convert text to Binary\n",
        "lb = LabelBinarizer()\n",
        "labels = lb.fit_transform(labels)\n",
        "labels = to_categorical(labels)\n",
        "\n",
        "data = np.array(data, dtype=\"float32\")\n",
        "labels = np.array(labels)\n",
        "\n",
        "(trainX, testX, trainY, testY) = train_test_split(data, labels,\n",
        "\ttest_size=0.20, stratify=labels, random_state=42)"
      ],
      "metadata": {
        "id": "qHteO7kzHVkX"
      },
      "execution_count": null,
      "outputs": []
    },
    {
      "cell_type": "code",
      "source": [
        "# construct the training image generator for data augmentation\n",
        "aug = ImageDataGenerator(\n",
        "\trotation_range=20,\n",
        "\tzoom_range=0.15,\n",
        "\twidth_shift_range=0.2,\n",
        "\theight_shift_range=0.2,\n",
        "\tshear_range=0.15,\n",
        "\thorizontal_flip=True,\n",
        "\tfill_mode=\"nearest\")"
      ],
      "metadata": {
        "id": "KVvuianWHVoB"
      },
      "execution_count": null,
      "outputs": []
    },
    {
      "cell_type": "code",
      "source": [
        "# load the MobileNetV2 network\n",
        "baseModel = MobileNetV2(weights=\"imagenet\", include_top=False,\n",
        "\tinput_tensor=Input(shape=(224, 224, 3)))\n",
        "\n",
        "# Create head and the base model\n",
        "headModel = baseModel.output\n",
        "headModel = AveragePooling2D(pool_size=(7, 7))(headModel)\n",
        "headModel = Flatten(name=\"flatten\")(headModel)\n",
        "headModel = Dense(128, activation=\"relu\")(headModel)\n",
        "headModel = Dropout(0.5)(headModel)\n",
        "headModel = Dense(2, activation=\"softmax\")(headModel)"
      ],
      "metadata": {
        "colab": {
          "base_uri": "https://localhost:8080/"
        },
        "id": "OPnfA9gEHVrz",
        "outputId": "721dbb4a-65c4-4b23-cf76-3da5410df666"
      },
      "execution_count": null,
      "outputs": [
        {
          "output_type": "stream",
          "name": "stdout",
          "text": [
            "WARNING:tensorflow:`input_shape` is undefined or non-square, or `rows` is not in [96, 128, 160, 192, 224]. Weights for input shape (224, 224) will be loaded as the default.\n",
            "Downloading data from https://storage.googleapis.com/tensorflow/keras-applications/mobilenet_v2/mobilenet_v2_weights_tf_dim_ordering_tf_kernels_1.0_224_no_top.h5\n",
            "9412608/9406464 [==============================] - 0s 0us/step\n",
            "9420800/9406464 [==============================] - 0s 0us/step\n"
          ]
        }
      ]
    },
    {
      "cell_type": "code",
      "source": [
        "# Call head and the base model\n",
        "model = Model(inputs=baseModel.input, outputs=headModel)\n",
        "\n",
        "# loop over all layers in the base model and freeze them\n",
        "for layer in baseModel.layers:\n",
        "\tlayer.trainable = False\n"
      ],
      "metadata": {
        "id": "Ju0mwpTCHVvg"
      },
      "execution_count": null,
      "outputs": []
    },
    {
      "cell_type": "code",
      "source": [
        "# compile our model 17\n",
        "print(\"Compilation of the MODEL is going on...\")\n",
        "opt = Adam(lr=INIT_LR, decay=INIT_LR / EPOCHS)\n",
        "model.compile(loss=\"binary_crossentropy\", optimizer=opt,\n",
        "\tmetrics=[\"accuracy\"])\n"
      ],
      "metadata": {
        "colab": {
          "base_uri": "https://localhost:8080/"
        },
        "id": "lwOkUP2PHVy7",
        "outputId": "687d56f6-4376-4fb5-cd94-23478e45f265"
      },
      "execution_count": null,
      "outputs": [
        {
          "output_type": "stream",
          "name": "stdout",
          "text": [
            "Compilation of the MODEL is going on...\n"
          ]
        },
        {
          "output_type": "stream",
          "name": "stderr",
          "text": [
            "/usr/local/lib/python3.7/dist-packages/keras/optimizer_v2/adam.py:105: UserWarning: The `lr` argument is deprecated, use `learning_rate` instead.\n",
            "  super(Adam, self).__init__(name, **kwargs)\n"
          ]
        }
      ]
    },
    {
      "cell_type": "code",
      "source": [
        "# train the head of the network\n",
        "print(\"Training Head Started...\")\n",
        "H = model.fit(\n",
        "\taug.flow(trainX, trainY, batch_size=BATCH_SIZE),\n",
        "\tsteps_per_epoch=len(trainX) // BATCH_SIZE,\n",
        "\tvalidation_data=(testX, testY),\n",
        "\tvalidation_steps=len(testX) // BATCH_SIZE,\n",
        "\tepochs=EPOCHS)\n"
      ],
      "metadata": {
        "colab": {
          "base_uri": "https://localhost:8080/"
        },
        "id": "oypjkDVEHV2o",
        "outputId": "b0eb5ea7-15b6-4a15-89a2-95d6366def59"
      },
      "execution_count": null,
      "outputs": [
        {
          "output_type": "stream",
          "name": "stdout",
          "text": [
            "Training Head Started...\n",
            "Epoch 1/20\n",
            "95/95 [==============================] - 53s 435ms/step - loss: 0.3892 - accuracy: 0.8594 - val_loss: 0.1472 - val_accuracy: 0.9831\n",
            "Epoch 2/20\n",
            "95/95 [==============================] - 40s 417ms/step - loss: 0.1367 - accuracy: 0.9648 - val_loss: 0.0767 - val_accuracy: 0.9909\n",
            "Epoch 3/20\n",
            "95/95 [==============================] - 39s 415ms/step - loss: 0.0945 - accuracy: 0.9740 - val_loss: 0.0580 - val_accuracy: 0.9857\n",
            "Epoch 4/20\n",
            "95/95 [==============================] - 39s 415ms/step - loss: 0.0714 - accuracy: 0.9809 - val_loss: 0.0465 - val_accuracy: 0.9883\n",
            "Epoch 5/20\n",
            "95/95 [==============================] - 40s 419ms/step - loss: 0.0629 - accuracy: 0.9822 - val_loss: 0.0402 - val_accuracy: 0.9896\n",
            "Epoch 6/20\n",
            "95/95 [==============================] - 40s 418ms/step - loss: 0.0527 - accuracy: 0.9842 - val_loss: 0.0419 - val_accuracy: 0.9857\n",
            "Epoch 7/20\n",
            "95/95 [==============================] - 40s 419ms/step - loss: 0.0536 - accuracy: 0.9835 - val_loss: 0.0350 - val_accuracy: 0.9857\n",
            "Epoch 8/20\n",
            "95/95 [==============================] - 40s 417ms/step - loss: 0.0469 - accuracy: 0.9878 - val_loss: 0.0309 - val_accuracy: 0.9909\n",
            "Epoch 9/20\n",
            "95/95 [==============================] - 40s 416ms/step - loss: 0.0488 - accuracy: 0.9839 - val_loss: 0.0278 - val_accuracy: 0.9935\n",
            "Epoch 10/20\n",
            "95/95 [==============================] - 40s 418ms/step - loss: 0.0436 - accuracy: 0.9885 - val_loss: 0.0318 - val_accuracy: 0.9870\n",
            "Epoch 11/20\n",
            "95/95 [==============================] - 40s 418ms/step - loss: 0.0344 - accuracy: 0.9901 - val_loss: 0.0290 - val_accuracy: 0.9870\n",
            "Epoch 12/20\n",
            "95/95 [==============================] - 40s 418ms/step - loss: 0.0376 - accuracy: 0.9898 - val_loss: 0.0254 - val_accuracy: 0.9935\n",
            "Epoch 13/20\n",
            "95/95 [==============================] - 40s 417ms/step - loss: 0.0383 - accuracy: 0.9865 - val_loss: 0.0261 - val_accuracy: 0.9883\n",
            "Epoch 14/20\n",
            "95/95 [==============================] - 40s 416ms/step - loss: 0.0304 - accuracy: 0.9911 - val_loss: 0.0250 - val_accuracy: 0.9896\n",
            "Epoch 15/20\n",
            "95/95 [==============================] - 40s 419ms/step - loss: 0.0324 - accuracy: 0.9898 - val_loss: 0.0350 - val_accuracy: 0.9818\n",
            "Epoch 16/20\n",
            "95/95 [==============================] - 40s 417ms/step - loss: 0.0336 - accuracy: 0.9878 - val_loss: 0.0259 - val_accuracy: 0.9883\n",
            "Epoch 17/20\n",
            "95/95 [==============================] - 40s 415ms/step - loss: 0.0263 - accuracy: 0.9918 - val_loss: 0.0244 - val_accuracy: 0.9870\n",
            "Epoch 18/20\n",
            "95/95 [==============================] - 40s 419ms/step - loss: 0.0220 - accuracy: 0.9951 - val_loss: 0.0234 - val_accuracy: 0.9883\n",
            "Epoch 19/20\n",
            "95/95 [==============================] - 40s 417ms/step - loss: 0.0261 - accuracy: 0.9918 - val_loss: 0.0219 - val_accuracy: 0.9909\n",
            "Epoch 20/20\n",
            "95/95 [==============================] - 40s 419ms/step - loss: 0.0238 - accuracy: 0.9924 - val_loss: 0.0246 - val_accuracy: 0.9870\n"
          ]
        }
      ]
    },
    {
      "cell_type": "code",
      "source": [
        "# make predictions on the testing set\n",
        "print(\"Network evaluation...\")\n",
        "predIdxs = model.predict(testX, batch_size=BATCH_SIZE)\n",
        "\n",
        "predIdxs = np.argmax(predIdxs, axis=1)\n"
      ],
      "metadata": {
        "colab": {
          "base_uri": "https://localhost:8080/"
        },
        "id": "BKX5AYk5HV58",
        "outputId": "77d788db-cbef-4787-9ee6-6f4b892b4c77"
      },
      "execution_count": null,
      "outputs": [
        {
          "output_type": "stream",
          "name": "stdout",
          "text": [
            "Network evaluation...\n"
          ]
        }
      ]
    },
    {
      "cell_type": "code",
      "source": [
        ""
      ],
      "metadata": {
        "id": "Ynew7xmGWKIR"
      },
      "execution_count": null,
      "outputs": []
    },
    {
      "cell_type": "code",
      "source": [
        "# show a nicely formatted classification report\n",
        "print(classification_report(testY.argmax(axis=1), predIdxs,\n",
        "\ttarget_names=lb.classes_))\n"
      ],
      "metadata": {
        "colab": {
          "base_uri": "https://localhost:8080/"
        },
        "id": "cnbnyV5tHV9j",
        "outputId": "541dd545-f4fc-4237-c391-2b47986601ea"
      },
      "execution_count": null,
      "outputs": [
        {
          "output_type": "stream",
          "name": "stdout",
          "text": [
            "              precision    recall  f1-score   support\n",
            "\n",
            "   with_mask       0.98      1.00      0.99       384\n",
            "without_mask       1.00      0.98      0.99       384\n",
            "\n",
            "    accuracy                           0.99       768\n",
            "   macro avg       0.99      0.99      0.99       768\n",
            "weighted avg       0.99      0.99      0.99       768\n",
            "\n"
          ]
        }
      ]
    },
    {
      "cell_type": "code",
      "source": [
        "# plot the training loss and accuracy\n",
        "N = EPOCHS\n",
        "plt.style.use(\"ggplot\")\n",
        "plt.figure()\n",
        "plt.plot(np.arange(0, N), H.history[\"loss\"], label=\"train_loss\")\n",
        "plt.plot(np.arange(0, N), H.history[\"val_loss\"], label=\"val_loss\")\n",
        "plt.plot(np.arange(0, N), H.history[\"accuracy\"], label=\"train_acc\")\n",
        "plt.plot(np.arange(0, N), H.history[\"val_accuracy\"], label=\"val_acc\")\n",
        "plt.title(\"Training Loss and Accuracy\")\n",
        "plt.xlabel(\"Epoch #\")\n",
        "plt.ylabel(\"Loss/Accuracy\")\n",
        "plt.legend(loc=\"lower left\")\n",
        "plt.savefig(\"plot.png\")"
      ],
      "metadata": {
        "colab": {
          "base_uri": "https://localhost:8080/",
          "height": 299
        },
        "id": "fBod9-IJJ1Ix",
        "outputId": "25c78210-75b3-4867-df4f-22a06c2bb699"
      },
      "execution_count": null,
      "outputs": [
        {
          "output_type": "display_data",
          "data": {
            "image/png": "[encoded data removed]",
            "text/plain": [
              "<Figure size 432x288 with 1 Axes>"
            ]
          },
          "metadata": {}
        }
      ]
    },
    {
      "cell_type": "code",
      "source": [
        "# serialize the model to disk\n",
        "print(\"saving mask model...\")\n",
        "model.save(\"mask_detector.model\", save_format=\"h5\")"
      ],
      "metadata": {
        "colab": {
          "base_uri": "https://localhost:8080/"
        },
        "id": "TQrCGRrQHWBI",
        "outputId": "b3b8edc2-0f58-4927-d56f-b9a0e863d5d6"
      },
      "execution_count": null,
      "outputs": [
        {
          "output_type": "stream",
          "name": "stdout",
          "text": [
            "saving mask model...\n"
          ]
        },
        {
          "output_type": "stream",
          "name": "stderr",
          "text": [
            "/usr/local/lib/python3.7/dist-packages/keras/engine/functional.py:1410: CustomMaskWarning: Custom mask layers require a config and must override get_config. When loading, the custom mask layer must be passed to the custom_objects argument.\n",
            "  layer_config = serialize_layer_fn(layer)\n"
          ]
        }
      ]
    },
    {
      "cell_type": "code",
      "source": [
        "\n",
        "# ডাউনলোড করি h5 হিসেবে\n",
        "from google.colab import files\n",
        "files.download('mask_detector.model')\n",
        "\n",
        "print('mask_dectector.tflite` has been downloaded')"
      ],
      "metadata": {
        "id": "YPDX78qGHWE4",
        "colab": {
          "base_uri": "https://localhost:8080/",
          "height": 34
        },
        "outputId": "13775776-ebe5-4ade-c5a2-bf21bb06056a"
      },
      "execution_count": null,
      "outputs": [
        {
          "output_type": "display_data",
          "data": {
            "application/javascript": [
              "\n",
              "    async function download(id, filename, size) {\n",
              "      if (!google.colab.kernel.accessAllowed) {\n",
              "        return;\n",
              "      }\n",
              "      const div = document.createElement('div');\n",
              "      const label = document.createElement('label');\n",
              "      label.textContent = `Downloading \"${filename}\": `;\n",
              "      div.appendChild(label);\n",
              "      const progress = document.createElement('progress');\n",
              "      progress.max = size;\n",
              "      div.appendChild(progress);\n",
              "      document.body.appendChild(div);\n",
              "\n",
              "      const buffers = [];\n",
              "      let downloaded = 0;\n",
              "\n",
              "      const channel = await google.colab.kernel.comms.open(id);\n",
              "      // Send a message to notify the kernel that we're ready.\n",
              "      channel.send({})\n",
              "\n",
              "      for await (const message of channel.messages) {\n",
              "        // Send a message to notify the kernel that we're ready.\n",
              "        channel.send({})\n",
              "        if (message.buffers) {\n",
              "          for (const buffer of message.buffers) {\n",
              "            buffers.push(buffer);\n",
              "            downloaded += buffer.byteLength;\n",
              "            progress.value = downloaded;\n",
              "          }\n",
              "        }\n",
              "      }\n",
              "      const blob = new Blob(buffers, {type: 'application/binary'});\n",
              "      const a = document.createElement('a');\n",
              "      a.href = window.URL.createObjectURL(blob);\n",
              "      a.download = filename;\n",
              "      div.appendChild(a);\n",
              "      a.click();\n",
              "      div.remove();\n",
              "    }\n",
              "  "
            ],
            "text/plain": [
              "<IPython.core.display.Javascript object>"
            ]
          },
          "metadata": {}
        },
        {
          "output_type": "display_data",
          "data": {
            "application/javascript": [
              "download(\"download_42817fed-a597-4f15-8442-4d5130e3454e\", \"mask_detector.model\", 11499776)"
            ],
            "text/plain": [
              "<IPython.core.display.Javascript object>"
            ]
          },
          "metadata": {}
        },
        {
          "output_type": "stream",
          "name": "stdout",
          "text": [
            "mask_dectector.tflite` has been downloaded\n"
          ]
        }
      ]
    }
  ]
}