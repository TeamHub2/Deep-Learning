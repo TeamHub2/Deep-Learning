{
  "nbformat": 4,
  "nbformat_minor": 0,
  "metadata": {
    "colab": {
      "name": "Multiple data Augmentation.ipynb",
      "provenance": [],
      "mount_file_id": "1N4XlIE-e0iehUNFBGnUTLtbE3Kc0jgu4",
      "authorship_tag": "ABX9TyNXE4CQRK8tT8i+opi4mIoI",
      "include_colab_link": true
    },
    "kernelspec": {
      "name": "python3",
      "display_name": "Python 3"
    },
    "language_info": {
      "name": "python"
    },
    "accelerator": "GPU"
  },
  "cells": [
    {
      "cell_type": "markdown",
      "metadata": {
        "id": "view-in-github",
        "colab_type": "text"
      },
      "source": [
        "<a href=\"https://colab.research.google.com/github/TeamHub2/Deep-Learning/blob/main/Multiple_data_Augmentation.ipynb\" target=\"_parent\"><img src=\"https://colab.research.google.com/assets/colab-badge.svg\" alt=\"Open In Colab\"/></a>"
      ]
    },
    {
      "cell_type": "code",
      "metadata": {
        "id": "ruoZy0a7Rebg"
      },
      "source": [
        "from keras.preprocessing.image import ImageDataGenerator\n",
        "from keras.applications.inception_v3 import preprocess_input\n",
        "from keras.preprocessing.image import ImageDataGenerator, array_to_img, img_to_array, load_img\n",
        " \n",
        "train_datagen = ImageDataGenerator(\n",
        "        rotation_range=40,\n",
        "        width_shift_range=0.2,\n",
        "        height_shift_range=0.2,\n",
        "        shear_range=0.2,\n",
        "        zoom_range=0.2,\n",
        "        horizontal_flip=True,\n",
        "        fill_mode='nearest')"
      ],
      "execution_count": null,
      "outputs": []
    },
    {
      "cell_type": "code",
      "metadata": {
        "id": "8YVLX9rqTr6M",
        "colab": {
          "base_uri": "https://localhost:8080/"
        },
        "outputId": "2d8bdb2a-233b-44ea-e7c9-095464a53479"
      },
      "source": [
        "train_generator=train_datagen.flow_from_directory('/content/drive/MyDrive/AI Paper/Train',target_size=(500,750),\n",
        "                                                  save_to_dir='/content/drive/MyDrive/AI Paper/Generate/Brown_spot_G', save_prefix='b_spot', save_format='jpeg')"
      ],
      "execution_count": null,
      "outputs": [
        {
          "output_type": "stream",
          "text": [
            "Found 48 images belonging to 1 classes.\n"
          ],
          "name": "stdout"
        }
      ]
    },
    {
      "cell_type": "code",
      "metadata": {
        "id": "Qh5tsGO7T2r6"
      },
      "source": [
        "i=0\n",
        "for batch in train_generator:\n",
        "  i+=1\n",
        "  if(i>=20):\n",
        "    break"
      ],
      "execution_count": null,
      "outputs": []
    },
    {
      "cell_type": "code",
      "metadata": {
        "id": "im91VnptZU4S"
      },
      "source": [
        ""
      ],
      "execution_count": null,
      "outputs": []
    }
  ]
}