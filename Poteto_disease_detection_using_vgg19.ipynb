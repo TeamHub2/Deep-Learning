{
  "nbformat": 4,
  "nbformat_minor": 0,
  "metadata": {
    "colab": {
      "name": "Poteto disease detection using vgg19  ",
      "provenance": [],
      "collapsed_sections": [],
      "mount_file_id": "15Zk-a-AyU5jiglTOi9njYC8uxHwr7x_w",
      "authorship_tag": "ABX9TyNhTX7MdsxTMRhSCIhzVhfo",
      "include_colab_link": true
    },
    "kernelspec": {
      "name": "python3",
      "display_name": "Python 3"
    },
    "language_info": {
      "name": "python"
    },
    "accelerator": "GPU"
  },
  "cells": [
    {
      "cell_type": "markdown",
      "metadata": {
        "id": "view-in-github",
        "colab_type": "text"
      },
      "source": [
        "<a href=\"https://colab.research.google.com/github/TeamHub2/Deep-Learning/blob/main/Poteto_disease_detection_using_vgg19.ipynb\" target=\"_parent\"><img src=\"https://colab.research.google.com/assets/colab-badge.svg\" alt=\"Open In Colab\"/></a>"
      ]
    },
    {
      "cell_type": "code",
      "metadata": {
        "id": "8OUHqGI18aEF"
      },
      "source": [
        "import tensorflow as tf\n",
        "from keras.preprocessing import image"
      ],
      "execution_count": null,
      "outputs": []
    },
    {
      "cell_type": "code",
      "metadata": {
        "id": "rvpvc7RV9Zml"
      },
      "source": [
        "train_datagen = image.ImageDataGenerator(\n",
        "    rescale=1./255,\n",
        "    shear_range = 0.3,\n",
        "    zoom_range = 0.3,\n",
        "    horizontal_flip = True,\n",
        ")\n",
        "validation_datagen = image.ImageDataGenerator(\n",
        "    rescale = 1./255\n",
        ")"
      ],
      "execution_count": null,
      "outputs": []
    },
    {
      "cell_type": "code",
      "metadata": {
        "colab": {
          "base_uri": "https://localhost:8080/"
        },
        "id": "eHWDKXIK9liO",
        "outputId": "c55a2acf-4afd-4cf5-d7ea-979d196b1116"
      },
      "source": [
        "train = train_datagen.flow_from_directory(\n",
        "    '/content/drive/MyDrive/Deep learning/poteto pic/Train 70%',\n",
        "    target_size = (224, 224),\n",
        "    batch_size = 32,\n",
        "    class_mode = 'categorical'\n",
        ")\n",
        "\n",
        "validation = validation_datagen.flow_from_directory(\n",
        "    '/content/drive/MyDrive/Deep learning/poteto pic/Validation 15%',\n",
        "    target_size = (224, 224),\n",
        "    batch_size = 32,\n",
        "    class_mode = 'categorical'\n",
        ")\n",
        "\n",
        "test = validation_datagen.flow_from_directory(\n",
        "    '/content/drive/MyDrive/Deep learning/poteto pic/Test15%',\n",
        "    target_size = (224, 224),\n",
        "    batch_size = 32,\n",
        "    shuffle = False,\n",
        "    class_mode = 'categorical'\n",
        ")"
      ],
      "execution_count": null,
      "outputs": [
        {
          "output_type": "stream",
          "name": "stdout",
          "text": [
            "Found 1506 images belonging to 3 classes.\n",
            "Found 324 images belonging to 3 classes.\n",
            "Found 322 images belonging to 3 classes.\n"
          ]
        }
      ]
    },
    {
      "cell_type": "code",
      "metadata": {
        "colab": {
          "base_uri": "https://localhost:8080/"
        },
        "id": "lkHHoAIC9q9F",
        "outputId": "7baf91ec-3a33-4d70-b1be-477c509b76e2"
      },
      "source": [
        "test.class_indices"
      ],
      "execution_count": null,
      "outputs": [
        {
          "output_type": "execute_result",
          "data": {
            "text/plain": [
              "{'Potato___Early_blight': 0, 'Potato___Late_blight': 1, 'Potato___healthy': 2}"
            ]
          },
          "metadata": {},
          "execution_count": 5
        }
      ]
    },
    {
      "cell_type": "code",
      "metadata": {
        "colab": {
          "base_uri": "https://localhost:8080/"
        },
        "id": "-Db6DCXy9wMN",
        "outputId": "0ac1a9ca-ebdc-4960-98eb-d5858a2b3899"
      },
      "source": [
        "VGG19 = tf.keras.applications.VGG19(\n",
        "    include_top=False, \n",
        "    weights = 'imagenet', \n",
        "    input_shape=(224,224,3),\n",
        "    )"
      ],
      "execution_count": null,
      "outputs": [
        {
          "output_type": "stream",
          "name": "stdout",
          "text": [
            "Downloading data from https://storage.googleapis.com/tensorflow/keras-applications/vgg19/vgg19_weights_tf_dim_ordering_tf_kernels_notop.h5\n",
            "80142336/80134624 [==============================] - 1s 0us/step\n",
            "80150528/80134624 [==============================] - 1s 0us/step\n"
          ]
        }
      ]
    },
    {
      "cell_type": "code",
      "metadata": {
        "id": "IKQ37S5Z9zU0"
      },
      "source": [
        "VGG19.trainable = False"
      ],
      "execution_count": null,
      "outputs": []
    },
    {
      "cell_type": "code",
      "metadata": {
        "id": "hp4KcuVZ92SF"
      },
      "source": [
        "model = tf.keras.models.Sequential([\n",
        "  VGG19,\n",
        "  tf.keras.layers.Flatten(),\n",
        "  tf.keras.layers.Dropout(0.8),\n",
        "  tf.keras.layers.Dense(units=1024, activation='relu'),\n",
        "  tf.keras.layers.Dense(units=512, activation='relu'),\n",
        "  tf.keras.layers.Dense(units=3, activation='softmax'), \n",
        "])"
      ],
      "execution_count": null,
      "outputs": []
    },
    {
      "cell_type": "code",
      "metadata": {
        "colab": {
          "base_uri": "https://localhost:8080/"
        },
        "id": "G0MGgkxI96wr",
        "outputId": "a544edcd-cf17-444c-b551-0b7e769b18bc"
      },
      "source": [
        "model.compile(\n",
        "    optimizer = 'adam',\n",
        "    loss = 'categorical_crossentropy',\n",
        "    metrics = ['accuracy']\n",
        ")\n",
        "model.summary()"
      ],
      "execution_count": null,
      "outputs": [
        {
          "output_type": "stream",
          "name": "stdout",
          "text": [
            "Model: \"sequential\"\n",
            "_________________________________________________________________\n",
            "Layer (type)                 Output Shape              Param #   \n",
            "=================================================================\n",
            "vgg19 (Functional)           (None, 7, 7, 512)         20024384  \n",
            "_________________________________________________________________\n",
            "flatten (Flatten)            (None, 25088)             0         \n",
            "_________________________________________________________________\n",
            "dropout (Dropout)            (None, 25088)             0         \n",
            "_________________________________________________________________\n",
            "dense (Dense)                (None, 1024)              25691136  \n",
            "_________________________________________________________________\n",
            "dense_1 (Dense)              (None, 512)               524800    \n",
            "_________________________________________________________________\n",
            "dense_2 (Dense)              (None, 3)                 1539      \n",
            "=================================================================\n",
            "Total params: 46,241,859\n",
            "Trainable params: 26,217,475\n",
            "Non-trainable params: 20,024,384\n",
            "_________________________________________________________________\n"
          ]
        }
      ]
    },
    {
      "cell_type": "code",
      "metadata": {
        "colab": {
          "base_uri": "https://localhost:8080/"
        },
        "id": "dbXSomph99cF",
        "outputId": "512cd3c5-8fee-4441-f9a1-63553f6f4677"
      },
      "source": [
        "history = model.fit(\n",
        "    x = train, \n",
        "    validation_data = validation,\n",
        "    epochs = 5\n",
        ")\n",
        "\n"
      ],
      "execution_count": null,
      "outputs": [
        {
          "output_type": "stream",
          "name": "stdout",
          "text": [
            "Epoch 1/5\n",
            "48/48 [==============================] - 785s 16s/step - loss: 2.2232 - accuracy: 0.5930 - val_loss: 0.3691 - val_accuracy: 0.8735\n",
            "Epoch 2/5\n",
            "48/48 [==============================] - 29s 601ms/step - loss: 0.4085 - accuracy: 0.8440 - val_loss: 0.2788 - val_accuracy: 0.8951\n",
            "Epoch 3/5\n",
            "48/48 [==============================] - 29s 600ms/step - loss: 0.3599 - accuracy: 0.8685 - val_loss: 0.3234 - val_accuracy: 0.8704\n",
            "Epoch 4/5\n",
            "48/48 [==============================] - 29s 599ms/step - loss: 0.3514 - accuracy: 0.8572 - val_loss: 0.2910 - val_accuracy: 0.8735\n",
            "Epoch 5/5\n",
            "48/48 [==============================] - 29s 595ms/step - loss: 0.2938 - accuracy: 0.8878 - val_loss: 0.2155 - val_accuracy: 0.9228\n"
          ]
        }
      ]
    },
    {
      "cell_type": "code",
      "metadata": {
        "id": "77tRwpfL-Grz",
        "colab": {
          "base_uri": "https://localhost:8080/"
        },
        "outputId": "58117080-f5fb-42c8-c099-598d9fec0be5"
      },
      "source": [
        "# Evaluate the loss and accuracy\n",
        "loss, accuracy = model.evaluate(test)\n",
        "\n",
        "# Print the accuracy\n",
        "print(\"Accuracy: \" + str(accuracy))\n",
        "# Print the loss\n",
        "print(\"Loss: \" + str(loss))"
      ],
      "execution_count": null,
      "outputs": [
        {
          "output_type": "stream",
          "name": "stdout",
          "text": [
            "11/11 [==============================] - 119s 12s/step - loss: 0.1774 - accuracy: 0.9286\n",
            "Accuracy: 0.9285714030265808\n",
            "Loss: 0.17744137346744537\n"
          ]
        }
      ]
    },
    {
      "cell_type": "code",
      "metadata": {
        "id": "7Dirlz0y-Kuo",
        "colab": {
          "base_uri": "https://localhost:8080/"
        },
        "outputId": "87d6a46e-b65a-4ed5-e0cc-e3e325212fed"
      },
      "source": [
        "import numpy as np\n",
        "from sklearn import metrics\n",
        "\n",
        "predictions = model.predict_generator(test)\n",
        "predicted_classes = np.argmax(predictions, axis = 1)\n",
        "true_classes = test.classes\n",
        "class_labels = ['Potato___Early_blight','Potato___Late_blight','Potato___healthy']\n",
        "report = metrics.classification_report(true_classes, predicted_classes, target_names = class_labels)\n",
        "print(report)"
      ],
      "execution_count": null,
      "outputs": [
        {
          "output_type": "stream",
          "name": "stderr",
          "text": [
            "/usr/local/lib/python3.7/dist-packages/keras/engine/training.py:2035: UserWarning: `Model.predict_generator` is deprecated and will be removed in a future version. Please use `Model.predict`, which supports generators.\n",
            "  warnings.warn('`Model.predict_generator` is deprecated and '\n"
          ]
        },
        {
          "output_type": "stream",
          "name": "stdout",
          "text": [
            "                       precision    recall  f1-score   support\n",
            "\n",
            "Potato___Early_blight       0.98      0.93      0.96       150\n",
            " Potato___Late_blight       0.90      0.97      0.93       150\n",
            "     Potato___healthy       0.82      0.64      0.72        22\n",
            "\n",
            "             accuracy                           0.93       322\n",
            "            macro avg       0.90      0.85      0.87       322\n",
            "         weighted avg       0.93      0.93      0.93       322\n",
            "\n"
          ]
        }
      ]
    },
    {
      "cell_type": "code",
      "metadata": {
        "id": "Djms8Alh-N6T",
        "colab": {
          "base_uri": "https://localhost:8080/",
          "height": 446
        },
        "outputId": "2ebe797d-e841-466f-958d-11519f334fdc"
      },
      "source": [
        "import seaborn as sn\n",
        "import pandas as pd\n",
        "import matplotlib.pyplot as plt\n",
        "\n",
        "cm = metrics.confusion_matrix(true_classes, predicted_classes)\n",
        "df_cm = pd.DataFrame(cm, index = [i for i in ['Potato___Early_blight','Potato___Late_blight','Potato___healthy']],\n",
        "                  columns = [i for i in ['Potato___Early_blight','Potato___Late_blight','Potato___healthy']])\n",
        "plt.figure(figsize = (10,7))\n",
        "sn.heatmap(df_cm, annot=True, fmt='d')"
      ],
      "execution_count": null,
      "outputs": [
        {
          "output_type": "execute_result",
          "data": {
            "text/plain": [
              "<matplotlib.axes._subplots.AxesSubplot at 0x7f7bedef4450>"
            ]
          },
          "metadata": {},
          "execution_count": 16
        },
        {
          "output_type": "display_data",
          "data": {
            "image/png": "[encoded data removed]",
            "text/plain": [
              "<Figure size 720x504 with 2 Axes>"
            ]
          },
          "metadata": {
            "needs_background": "light"
          }
        }
      ]
    }
  ]
}