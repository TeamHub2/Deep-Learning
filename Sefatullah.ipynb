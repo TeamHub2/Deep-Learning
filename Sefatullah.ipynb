{
  "nbformat": 4,
  "nbformat_minor": 0,
  "metadata": {
    "colab": {
      "name": "Sefatullah.ipynb",
      "provenance": [],
      "collapsed_sections": [],
      "mount_file_id": "1_GUAf7KScqqUh0mQzh9rf7Qna0awaYww",
      "authorship_tag": "ABX9TyNHc2sThPaHN8l6O4Y2Y6Y6",
      "include_colab_link": true
    },
    "kernelspec": {
      "name": "python3",
      "display_name": "Python 3"
    },
    "language_info": {
      "name": "python"
    },
    "accelerator": "GPU"
  },
  "cells": [
    {
      "cell_type": "markdown",
      "metadata": {
        "id": "view-in-github",
        "colab_type": "text"
      },
      "source": [
        "<a href=\"https://colab.research.google.com/github/TeamHub2/Deep-Learning/blob/main/Sefatullah.ipynb\" target=\"_parent\"><img src=\"https://colab.research.google.com/assets/colab-badge.svg\" alt=\"Open In Colab\"/></a>"
      ]
    },
    {
      "cell_type": "code",
      "execution_count": null,
      "metadata": {
        "id": "U3ANX2US3-lj"
      },
      "outputs": [],
      "source": [
        "import tensorflow as tf\n",
        "from tensorflow.keras.layers import Input, Lambda, Dense, Flatten\n",
        "from tensorflow.keras.models import Model\n",
        "from tensorflow.keras.preprocessing import image\n",
        "from tensorflow.keras.preprocessing.image import ImageDataGenerator,load_img\n",
        "from tensorflow.keras.models import Sequential\n",
        "import numpy as np\n",
        "from glob import glob\n",
        "import datetime as dt\n",
        "import matplotlib.pyplot as plt"
      ]
    },
    {
      "cell_type": "code",
      "source": [
        "IMAGE_SHAPE = (224, 224,3)\n",
        "\n",
        "train_path = '/content/drive/MyDrive/Final year project/Mobilenetv2/Train'\n",
        "test_path = '/content/drive/MyDrive/Final year project/Mobilenetv2/Test'"
      ],
      "metadata": {
        "id": "zCoVDkVy4L3c"
      },
      "execution_count": null,
      "outputs": []
    },
    {
      "cell_type": "code",
      "source": [
        "from tensorflow.keras.preprocessing.image import ImageDataGenerator\n",
        "\n",
        "train_datagen = ImageDataGenerator(rescale = 1./255,\n",
        "                                   #zoom_range = 0.2,\n",
        "                                   rotation_range=10,\n",
        "                                   #brightness_range=[0.5, 1.5],\n",
        "                                   vertical_flip=False,\n",
        "                                   horizontal_flip = False)\n",
        "\n",
        "test_datagen = ImageDataGenerator(rescale = 1./255)"
      ],
      "metadata": {
        "id": "ExsdETMy4L6p"
      },
      "execution_count": null,
      "outputs": []
    },
    {
      "cell_type": "code",
      "source": [
        "training_set = train_datagen.flow_from_directory(train_path,\n",
        "                                                 target_size = (224, 224),\n",
        "                                                 batch_size = 32,\n",
        "                                                 class_mode = 'categorical')"
      ],
      "metadata": {
        "colab": {
          "base_uri": "https://localhost:8080/"
        },
        "id": "5sVGATiW4L9_",
        "outputId": "33c62ee1-1bbb-4d7a-80c1-2b1dd368680b"
      },
      "execution_count": null,
      "outputs": [
        {
          "output_type": "stream",
          "name": "stdout",
          "text": [
            "Found 1017 images belonging to 4 classes.\n"
          ]
        }
      ]
    },
    {
      "cell_type": "code",
      "source": [
        "test_set = test_datagen.flow_from_directory(test_path,\n",
        "                                            target_size = (224, 224),\n",
        "                                            batch_size = 32,\n",
        "                                            class_mode = 'categorical',\n",
        "                                            shuffle =False)"
      ],
      "metadata": {
        "colab": {
          "base_uri": "https://localhost:8080/"
        },
        "id": "neP6Qw044MBn",
        "outputId": "12b24a52-fffe-4d1f-a30d-1a91763a3929"
      },
      "execution_count": null,
      "outputs": [
        {
          "output_type": "stream",
          "name": "stdout",
          "text": [
            "Found 290 images belonging to 4 classes.\n"
          ]
        }
      ]
    },
    {
      "cell_type": "code",
      "source": [
        "\n",
        "dense = tf.keras.applications.mobilenet_v2.MobileNetV2(input_shape=(224,224,3), weights='imagenet', include_top=False) #MobileNetV2 model algorithom download\n",
        "\n",
        "for layer in dense.layers:\n",
        "    layer.trainable = False\n",
        "\n",
        "x = Flatten()(dense.output)\n",
        "prediction = Dense(4, activation='softmax')(x) #customize the model with our dataset\n",
        "model = Model(inputs=dense.input, outputs=prediction)\n",
        "\n",
        "model.compile( #compiling our customize model\n",
        "  loss='categorical_crossentropy',\n",
        "  optimizer='adam',\n",
        "  metrics=['accuracy']\n",
        ")\n",
        "\n",
        "callbacks = [tf.keras.callbacks.TensorBoard(log_dir='log/{}'.format(dt.datetime.now().strftime(\"%Y-%m-%d-%H-%M-%S\")))]"
      ],
      "metadata": {
        "id": "4RbPuh3z4MFI"
      },
      "execution_count": null,
      "outputs": []
    },
    {
      "cell_type": "code",
      "source": [
        "h=model.fit(\n",
        "  training_set,\n",
        "  validation_data=test_set,\n",
        "  batch_size=32, #data train korbe 8 ta kore ekbare\n",
        "  epochs=20, #hole data ke total 20 bar train korano hoi\n",
        "  \n",
        ")"
      ],
      "metadata": {
        "colab": {
          "base_uri": "https://localhost:8080/"
        },
        "id": "4Q4k-jYP4ZBp",
        "outputId": "7d6dfc24-c63d-489e-deaa-4f7c54eb143c"
      },
      "execution_count": null,
      "outputs": [
        {
          "output_type": "stream",
          "name": "stdout",
          "text": [
            "Epoch 1/20\n",
            "32/32 [==============================] - 54s 2s/step - loss: 4.2542 - accuracy: 0.6834 - val_loss: 1.6740 - val_accuracy: 0.8310\n",
            "Epoch 2/20\n",
            "32/32 [==============================] - 50s 2s/step - loss: 1.0231 - accuracy: 0.9036 - val_loss: 1.1397 - val_accuracy: 0.8448\n",
            "Epoch 3/20\n",
            "32/32 [==============================] - 49s 2s/step - loss: 0.5481 - accuracy: 0.9302 - val_loss: 1.2104 - val_accuracy: 0.8828\n",
            "Epoch 4/20\n",
            "32/32 [==============================] - 49s 2s/step - loss: 0.3281 - accuracy: 0.9577 - val_loss: 0.7915 - val_accuracy: 0.9069\n",
            "Epoch 5/20\n",
            "32/32 [==============================] - 49s 2s/step - loss: 0.2741 - accuracy: 0.9666 - val_loss: 1.0082 - val_accuracy: 0.8931\n",
            "Epoch 6/20\n",
            "32/32 [==============================] - 49s 2s/step - loss: 0.2565 - accuracy: 0.9725 - val_loss: 1.0013 - val_accuracy: 0.8931\n",
            "Epoch 7/20\n",
            "32/32 [==============================] - 49s 2s/step - loss: 0.1774 - accuracy: 0.9725 - val_loss: 1.0472 - val_accuracy: 0.8690\n",
            "Epoch 8/20\n",
            "32/32 [==============================] - 49s 2s/step - loss: 0.2287 - accuracy: 0.9735 - val_loss: 1.7531 - val_accuracy: 0.8379\n",
            "Epoch 9/20\n",
            "32/32 [==============================] - 49s 2s/step - loss: 0.2272 - accuracy: 0.9735 - val_loss: 0.9573 - val_accuracy: 0.9103\n",
            "Epoch 10/20\n",
            "32/32 [==============================] - 49s 2s/step - loss: 0.1561 - accuracy: 0.9862 - val_loss: 0.8725 - val_accuracy: 0.9103\n",
            "Epoch 11/20\n",
            "32/32 [==============================] - 49s 2s/step - loss: 0.1822 - accuracy: 0.9843 - val_loss: 0.8952 - val_accuracy: 0.9276\n",
            "Epoch 12/20\n",
            "32/32 [==============================] - 49s 2s/step - loss: 0.2261 - accuracy: 0.9754 - val_loss: 1.8390 - val_accuracy: 0.8621\n",
            "Epoch 13/20\n",
            "32/32 [==============================] - 49s 2s/step - loss: 0.3168 - accuracy: 0.9636 - val_loss: 1.5327 - val_accuracy: 0.8724\n",
            "Epoch 14/20\n",
            "32/32 [==============================] - 49s 2s/step - loss: 0.3304 - accuracy: 0.9685 - val_loss: 1.1174 - val_accuracy: 0.9000\n",
            "Epoch 15/20\n",
            "32/32 [==============================] - 49s 2s/step - loss: 0.1148 - accuracy: 0.9833 - val_loss: 1.0132 - val_accuracy: 0.9000\n",
            "Epoch 16/20\n",
            "32/32 [==============================] - 49s 2s/step - loss: 0.2219 - accuracy: 0.9833 - val_loss: 0.6900 - val_accuracy: 0.9379\n",
            "Epoch 17/20\n",
            "32/32 [==============================] - 49s 2s/step - loss: 0.1848 - accuracy: 0.9833 - val_loss: 0.9375 - val_accuracy: 0.9138\n",
            "Epoch 18/20\n",
            "32/32 [==============================] - 49s 2s/step - loss: 0.2893 - accuracy: 0.9843 - val_loss: 0.9443 - val_accuracy: 0.9414\n",
            "Epoch 19/20\n",
            "32/32 [==============================] - 49s 2s/step - loss: 0.2435 - accuracy: 0.9784 - val_loss: 1.0184 - val_accuracy: 0.9241\n",
            "Epoch 20/20\n",
            "32/32 [==============================] - 47s 1s/step - loss: 0.1131 - accuracy: 0.9853 - val_loss: 1.7359 - val_accuracy: 0.9172\n"
          ]
        }
      ]
    },
    {
      "cell_type": "code",
      "source": [
        "loss,test_accuracy =model.evaluate(test_set)\n",
        "print('Accuracy on test:',test_accuracy)"
      ],
      "metadata": {
        "colab": {
          "base_uri": "https://localhost:8080/"
        },
        "id": "Gihf_5Wf4ZFl",
        "outputId": "d1746046-ba5b-4ff7-e3b6-7964ebb09763"
      },
      "execution_count": null,
      "outputs": [
        {
          "output_type": "stream",
          "name": "stdout",
          "text": [
            "10/10 [==============================] - 5s 513ms/step - loss: 1.7359 - accuracy: 0.9172\n",
            "Accuracy on test: 0.9172413945198059\n"
          ]
        }
      ]
    },
    {
      "cell_type": "code",
      "source": [
        "from sklearn.metrics import classification_report, confusion_matrix\n",
        "import seaborn as sns\n",
        "# T0 print the Classification Report\n",
        "y_pred =model.predict(test_set)\n",
        "y_pred = np.argmax(y_pred, axis=1)\n",
        "print(classification_report(test_set.classes, y_pred))"
      ],
      "metadata": {
        "colab": {
          "base_uri": "https://localhost:8080/"
        },
        "id": "vFKj-car4ZN3",
        "outputId": "48bfd88a-be7f-4f5f-db33-173fa49f9487"
      },
      "execution_count": null,
      "outputs": [
        {
          "output_type": "stream",
          "name": "stdout",
          "text": [
            "              precision    recall  f1-score   support\n",
            "\n",
            "           0       0.99      0.99      0.99        72\n",
            "           1       1.00      0.70      0.82        77\n",
            "           2       0.77      1.00      0.87        79\n",
            "           3       1.00      1.00      1.00        62\n",
            "\n",
            "    accuracy                           0.92       290\n",
            "   macro avg       0.94      0.92      0.92       290\n",
            "weighted avg       0.94      0.92      0.92       290\n",
            "\n"
          ]
        }
      ]
    },
    {
      "cell_type": "code",
      "source": [
        "# To print the Confusion Matrix\n",
        "cf_matrix = confusion_matrix(test_set.classes,y_pred)\n",
        "Labels = ['Brown spot','Leaf smut','Leaf blight','Becterial blight']\n",
        "plt.figure(figsize=(4, 4))\n",
        "heatmap = sns.heatmap(cf_matrix, xticklabels=Labels, yticklabels=Labels, annot=True, fmt='d', color='blue')\n",
        "plt.xlabel('Predicted Class')\n",
        "plt.ylabel('True Class')\n",
        "plt.title('Confusion Matrix')\n",
        "plt.show()"
      ],
      "metadata": {
        "colab": {
          "base_uri": "https://localhost:8080/",
          "height": 366
        },
        "id": "IE1ETk0g4MIm",
        "outputId": "6b3b8c4b-f3ed-42d6-9c28-ab51782ec36a"
      },
      "execution_count": null,
      "outputs": [
        {
          "output_type": "display_data",
          "data": {
            "image/png": "[encoded data removed]",
            "text/plain": [
              "<Figure size 288x288 with 2 Axes>"
            ]
          },
          "metadata": {}
        }
      ]
    },
    {
      "cell_type": "code",
      "source": [
        "# plot the training loss and accuracy\n",
        "N = epochs=20\n",
        "plt.style.use(\"ggplot\")\n",
        "plt.figure()\n",
        "plt.plot(np.arange(0, N), h.history[\"loss\"], label=\"train_loss\")\n",
        "#plt.plot(np.arange(0, N), h.history[\"val_loss\"], label=\"val_loss\")\n",
        "plt.plot(np.arange(0, N), h.history[\"accuracy\"], label=\"train_acc\")\n",
        "#plt.plot(np.arange(0, N), h.history[\"val_accuracy\"], label=\"val_acc\")\n",
        "plt.title(\"Training Loss and Accuracy\")\n",
        "plt.xlabel(\"Epoch #\")\n",
        "plt.ylabel(\"Loss/Accuracy\")\n",
        "plt.legend(loc=\"lower left\")\n",
        "plt.savefig(\"plot.png\")"
      ],
      "metadata": {
        "colab": {
          "base_uri": "https://localhost:8080/",
          "height": 299
        },
        "id": "xba6O7gpa8zf",
        "outputId": "1a072bbd-acce-4573-94cc-0688691d3f04"
      },
      "execution_count": null,
      "outputs": [
        {
          "output_type": "display_data",
          "data": {
            "image/png": "[encoded data removed]",
            "text/plain": [
              "<Figure size 432x288 with 1 Axes>"
            ]
          },
          "metadata": {}
        }
      ]
    },
    {
      "cell_type": "code",
      "source": [
        "converter = tf.lite.TFLiteConverter.from_keras_model(model)\n",
        "tflite_float_model = converter.convert()\n",
        "\n",
        "# মডেলের সাইজ কিলোবাইটে\n",
        "float_model_size = len(tflite_float_model) / 1024\n",
        "print('Float model size = %dKBs.' % float_model_size)"
      ],
      "metadata": {
        "colab": {
          "base_uri": "https://localhost:8080/"
        },
        "id": "IUWIgM9abIJ8",
        "outputId": "e3ea8dcf-0c9f-4dee-a3ec-371918459ffd"
      },
      "execution_count": null,
      "outputs": [
        {
          "output_type": "stream",
          "name": "stdout",
          "text": [
            "INFO:tensorflow:Assets written to: /tmp/tmpv5i54juy/assets\n"
          ]
        },
        {
          "output_type": "stream",
          "name": "stderr",
          "text": [
            "WARNING:absl:Buffer deduplication procedure will be skipped when flatbuffer library is not properly loaded\n"
          ]
        },
        {
          "output_type": "stream",
          "name": "stdout",
          "text": [
            "Float model size = 9631KBs.\n"
          ]
        }
      ]
    },
    {
      "cell_type": "code",
      "source": [
        "f = open('paddy_mobile2.tflite', \"wb\")\n",
        "f.write(tflite_float_model)\n",
        "f.close()\n",
        "\n",
        "# ডাউনলোড করি mnist.tflite হিসেবে\n",
        "from google.colab import files\n",
        "files.download('paddy_mobile2.tflite')\n",
        "\n",
        "print('`paddy_mobile2.tflite` has been downloaded')"
      ],
      "metadata": {
        "colab": {
          "base_uri": "https://localhost:8080/",
          "height": 34
        },
        "id": "wCyTh827bQg7",
        "outputId": "921ce5cd-d04f-4cfa-f84c-e8261ab1ca7e"
      },
      "execution_count": null,
      "outputs": [
        {
          "output_type": "display_data",
          "data": {
            "application/javascript": [
              "\n",
              "    async function download(id, filename, size) {\n",
              "      if (!google.colab.kernel.accessAllowed) {\n",
              "        return;\n",
              "      }\n",
              "      const div = document.createElement('div');\n",
              "      const label = document.createElement('label');\n",
              "      label.textContent = `Downloading \"${filename}\": `;\n",
              "      div.appendChild(label);\n",
              "      const progress = document.createElement('progress');\n",
              "      progress.max = size;\n",
              "      div.appendChild(progress);\n",
              "      document.body.appendChild(div);\n",
              "\n",
              "      const buffers = [];\n",
              "      let downloaded = 0;\n",
              "\n",
              "      const channel = await google.colab.kernel.comms.open(id);\n",
              "      // Send a message to notify the kernel that we're ready.\n",
              "      channel.send({})\n",
              "\n",
              "      for await (const message of channel.messages) {\n",
              "        // Send a message to notify the kernel that we're ready.\n",
              "        channel.send({})\n",
              "        if (message.buffers) {\n",
              "          for (const buffer of message.buffers) {\n",
              "            buffers.push(buffer);\n",
              "            downloaded += buffer.byteLength;\n",
              "            progress.value = downloaded;\n",
              "          }\n",
              "        }\n",
              "      }\n",
              "      const blob = new Blob(buffers, {type: 'application/binary'});\n",
              "      const a = document.createElement('a');\n",
              "      a.href = window.URL.createObjectURL(blob);\n",
              "      a.download = filename;\n",
              "      div.appendChild(a);\n",
              "      a.click();\n",
              "      div.remove();\n",
              "    }\n",
              "  "
            ],
            "text/plain": [
              "<IPython.core.display.Javascript object>"
            ]
          },
          "metadata": {}
        },
        {
          "output_type": "display_data",
          "data": {
            "application/javascript": [
              "download(\"download_94cdd9f6-8743-4457-bcf9-788972d3c59c\", \"paddy_mobile2.tflite\", 9862900)"
            ],
            "text/plain": [
              "<IPython.core.display.Javascript object>"
            ]
          },
          "metadata": {}
        },
        {
          "output_type": "stream",
          "name": "stdout",
          "text": [
            "`paddy_mobile2.tflite` has been downloaded\n"
          ]
        }
      ]
    }
  ]
}